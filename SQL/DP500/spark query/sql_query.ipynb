{
 "cells": [
  {
   "cell_type": "code",
   "execution_count": null,
   "metadata": {},
   "outputs": [],
   "source": [
    "from pyspark.sql.types import *\n",
    "from pyspark.sql.functions import *\n",
    "\n",
    "salesSchema = StructType(\n",
    "    [\n",
    "        StructField(\"SalesOrderID\", IntegerType()),\n",
    "        StructField(\"SalesOrderDetailID\",IntegerType()),\n",
    "        StructField(\"CarrierTrackingNumber\",StringType()),\n",
    "        StructField(\"OrderQty\",IntegerType()),\n",
    "        StructField(\"ProductID\",IntegerType()),\n",
    "        StructField(\"SpecialOfferID\",IntegerType()),\n",
    "        StructField(\"UnitPrice\",FloatType()),\n",
    "        StructField(\"UnitPriceDiscount\",FloatType()),\n",
    "        StructField(\"LineTotal\",FloatType()),\n",
    "        StructField(\"rowguid\",StringType()),\n",
    "        StructField(\"ModifiedDate\",TimestampType())\n",
    "    ]\n",
    ")\n",
    "\n",
    "df = spark.read.load('abfss://etlload@knoxlakegen2.dfs.core.windows.net/sales/SalesOrderDetail.csv',\n",
    "format='csv',\n",
    "header=True,\n",
    "schema=salesSchema\n",
    ")\n",
    "display(df)"
   ]
  },
  {
   "cell_type": "code",
   "execution_count": null,
   "metadata": {},
   "outputs": [],
   "source": [
    "1"
   ]
  },
  {
   "cell_type": "code",
   "execution_count": null,
   "metadata": {},
   "outputs": [],
   "source": [
    "sales_df = spark.sql(\"SELECT * FROM vw_sales\")\n",
    "display(sales_df)"
   ]
  },
  {
   "cell_type": "code",
   "execution_count": null,
   "metadata": {},
   "outputs": [],
   "source": [
    "sales_df = spark.sql(\"SELECT * FROM vw_sales\")\n",
    "filter_df = sales_df.select(\"SalesOrderID\",\"OrderQty\").where((sales_df[\"CarrierTrackingNumber\"]==\"4911-403C-98\"))\n",
    "display(filter_df)"
   ]
  },
  {
   "cell_type": "code",
   "execution_count": 1,
   "metadata": {},
   "outputs": [
    {
     "name": "stderr",
     "output_type": "stream",
     "text": [
      "UsageError: Cell magic `%%sql` not found.\n"
     ]
    }
   ],
   "source": [
    "%%sql\n",
    "\n",
    "SELECT *\n",
    "FROM vw_sales"
   ]
  }
 ],
 "metadata": {
  "kernelspec": {
   "display_name": "Python 3.9.7 64-bit",
   "language": "python",
   "name": "python3"
  },
  "language_info": {
   "codemirror_mode": {
    "name": "ipython",
    "version": 3
   },
   "file_extension": ".py",
   "mimetype": "text/x-python",
   "name": "python",
   "nbconvert_exporter": "python",
   "pygments_lexer": "ipython3",
   "version": "3.9.7"
  },
  "orig_nbformat": 4,
  "vscode": {
   "interpreter": {
    "hash": "0866b0178eadfcb04b475af301c22703d9d67512be1b7043443a666c4451acde"
   }
  }
 },
 "nbformat": 4,
 "nbformat_minor": 2
}
