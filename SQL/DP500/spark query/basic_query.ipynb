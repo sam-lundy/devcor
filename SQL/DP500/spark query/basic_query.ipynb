{
 "cells": [
  {
   "cell_type": "code",
   "execution_count": null,
   "metadata": {},
   "outputs": [],
   "source": [
    "%%pyspark\n",
    "df = spark.read.load('abfss://etlload@knoxlakegen2.dfs.core.windows.net/sales/SalesOrderDetail.csv',\n",
    "format='csv',\n",
    "header=True\n",
    ")\n",
    "display(df.limit(10))"
   ]
  }
 ],
 "metadata": {
  "kernelspec": {
   "display_name": "Python 3.9.7 64-bit",
   "language": "python",
   "name": "python3"
  },
  "language_info": {
   "name": "python",
   "version": "3.9.7"
  },
  "orig_nbformat": 4,
  "vscode": {
   "interpreter": {
    "hash": "0866b0178eadfcb04b475af301c22703d9d67512be1b7043443a666c4451acde"
   }
  }
 },
 "nbformat": 4,
 "nbformat_minor": 2
}
