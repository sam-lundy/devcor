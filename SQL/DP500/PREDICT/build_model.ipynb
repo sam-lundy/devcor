{
    "metadata": {
        "kernelspec": {
            "name": "python3",
            "display_name": "Python 3 (ipykernel)",
            "language": "python"
        },
        "language_info": {
            "name": "python",
            "version": "3.9.7",
            "mimetype": "text/x-python",
            "codemirror_mode": {
                "name": "ipython",
                "version": 3
            },
            "pygments_lexer": "ipython3",
            "nbconvert_exporter": "python",
            "file_extension": ".py"
        }
    },
    "nbformat_minor": 2,
    "nbformat": 4,
    "cells": [
        {
            "cell_type": "code",
            "source": [
                "import numpy as np\r\n",
                "import onnxmltools\r\n",
                "import onnxruntime as rt\r\n",
                "import pandas as pd\r\n",
                "import skl2onnx\r\n",
                "import sklearn\r\n",
                "import sklearn.datasets\r\n",
                "\r\n",
                "from sklearn.datasets import fetch_california_housing\r\n",
                "housing = fetch_california_housing()\r\n",
                "housing\r\n",
                "\r\n",
                "df = pd.DataFrame(data=np.c_[housing['data'], housing['target']], columns=housing['feature_names'] + ['MEDV'])\r\n",
                " \r\n",
                "target_column = 'MEDV'\r\n",
                " \r\n",
                "# Split the data frame into features and target\r\n",
                "x_train = pd.DataFrame(df.drop([target_column], axis = 1))\r\n",
                "y_train = pd.DataFrame(df.iloc[:,df.columns.tolist().index(target_column)])\r\n",
                "\r\n",
                "print(\"\\n*** Training dataset x\\n\")\r\n",
                "print(x_train.head())\r\n",
                "\r\n",
                "print(\"\\n*** Training dataset y\\n\")\r\n",
                "print(y_train.head())"
            ],
            "metadata": {
                "azdata_cell_guid": "cf1260eb-3416-4190-8ae0-5e40fa486614",
                "language": "python",
                "tags": []
            },
            "outputs": [
                {
                    "name": "stdout",
                    "text": "\n*** Training dataset x\n\n   MedInc  HouseAge  AveRooms  AveBedrms  Population  AveOccup  Latitude  \\\n0  8.3252      41.0  6.984127   1.023810       322.0  2.555556     37.88   \n1  8.3014      21.0  6.238137   0.971880      2401.0  2.109842     37.86   \n2  7.2574      52.0  8.288136   1.073446       496.0  2.802260     37.85   \n3  5.6431      52.0  5.817352   1.073059       558.0  2.547945     37.85   \n4  3.8462      52.0  6.281853   1.081081       565.0  2.181467     37.85   \n\n   Longitude  \n0    -122.23  \n1    -122.22  \n2    -122.24  \n3    -122.25  \n4    -122.25  \n\n*** Training dataset y\n\n    MEDV\n0  4.526\n1  3.585\n2  3.521\n3  3.413\n4  3.422\n",
                    "output_type": "stream"
                }
            ],
            "execution_count": 6
        },
        {
            "cell_type": "code",
            "source": [
                "from sklearn.compose import ColumnTransformer\r\n",
                "from sklearn.linear_model import LinearRegression\r\n",
                "from sklearn.pipeline import Pipeline\r\n",
                "from sklearn.preprocessing import RobustScaler\r\n",
                "\r\n",
                "continuous_transformer = Pipeline(steps=[('scaler', RobustScaler())])\r\n",
                "\r\n",
                "# All columns are numeric - normalize them\r\n",
                "preprocessor = ColumnTransformer(\r\n",
                "    transformers=[\r\n",
                "        ('continuous', continuous_transformer, [i for i in range(len(x_train.columns))])])\r\n",
                "\r\n",
                "model = Pipeline(\r\n",
                "    steps=[\r\n",
                "        ('preprocessor', preprocessor),\r\n",
                "        ('regressor', LinearRegression())])\r\n",
                "\r\n",
                "# Train the model\r\n",
                "model.fit(x_train, y_train)"
            ],
            "metadata": {
                "language": "python",
                "azdata_cell_guid": "809ffe06-6465-431f-a239-06381f0f4eaf"
            },
            "outputs": [
                {
                    "data": {
                        "text/plain": "Pipeline(steps=[('preprocessor',\n                 ColumnTransformer(transformers=[('continuous',\n                                                  Pipeline(steps=[('scaler',\n                                                                   RobustScaler())]),\n                                                  [0, 1, 2, 3, 4, 5, 6, 7])])),\n                ('regressor', LinearRegression())])",
                        "text/html": "<style>#sk-container-id-2 {color: black;background-color: white;}#sk-container-id-2 pre{padding: 0;}#sk-container-id-2 div.sk-toggleable {background-color: white;}#sk-container-id-2 label.sk-toggleable__label {cursor: pointer;display: block;width: 100%;margin-bottom: 0;padding: 0.3em;box-sizing: border-box;text-align: center;}#sk-container-id-2 label.sk-toggleable__label-arrow:before {content: \"▸\";float: left;margin-right: 0.25em;color: #696969;}#sk-container-id-2 label.sk-toggleable__label-arrow:hover:before {color: black;}#sk-container-id-2 div.sk-estimator:hover label.sk-toggleable__label-arrow:before {color: black;}#sk-container-id-2 div.sk-toggleable__content {max-height: 0;max-width: 0;overflow: hidden;text-align: left;background-color: #f0f8ff;}#sk-container-id-2 div.sk-toggleable__content pre {margin: 0.2em;color: black;border-radius: 0.25em;background-color: #f0f8ff;}#sk-container-id-2 input.sk-toggleable__control:checked~div.sk-toggleable__content {max-height: 200px;max-width: 100%;overflow: auto;}#sk-container-id-2 input.sk-toggleable__control:checked~label.sk-toggleable__label-arrow:before {content: \"▾\";}#sk-container-id-2 div.sk-estimator input.sk-toggleable__control:checked~label.sk-toggleable__label {background-color: #d4ebff;}#sk-container-id-2 div.sk-label input.sk-toggleable__control:checked~label.sk-toggleable__label {background-color: #d4ebff;}#sk-container-id-2 input.sk-hidden--visually {border: 0;clip: rect(1px 1px 1px 1px);clip: rect(1px, 1px, 1px, 1px);height: 1px;margin: -1px;overflow: hidden;padding: 0;position: absolute;width: 1px;}#sk-container-id-2 div.sk-estimator {font-family: monospace;background-color: #f0f8ff;border: 1px dotted black;border-radius: 0.25em;box-sizing: border-box;margin-bottom: 0.5em;}#sk-container-id-2 div.sk-estimator:hover {background-color: #d4ebff;}#sk-container-id-2 div.sk-parallel-item::after {content: \"\";width: 100%;border-bottom: 1px solid gray;flex-grow: 1;}#sk-container-id-2 div.sk-label:hover label.sk-toggleable__label {background-color: #d4ebff;}#sk-container-id-2 div.sk-serial::before {content: \"\";position: absolute;border-left: 1px solid gray;box-sizing: border-box;top: 0;bottom: 0;left: 50%;z-index: 0;}#sk-container-id-2 div.sk-serial {display: flex;flex-direction: column;align-items: center;background-color: white;padding-right: 0.2em;padding-left: 0.2em;position: relative;}#sk-container-id-2 div.sk-item {position: relative;z-index: 1;}#sk-container-id-2 div.sk-parallel {display: flex;align-items: stretch;justify-content: center;background-color: white;position: relative;}#sk-container-id-2 div.sk-item::before, #sk-container-id-2 div.sk-parallel-item::before {content: \"\";position: absolute;border-left: 1px solid gray;box-sizing: border-box;top: 0;bottom: 0;left: 50%;z-index: -1;}#sk-container-id-2 div.sk-parallel-item {display: flex;flex-direction: column;z-index: 1;position: relative;background-color: white;}#sk-container-id-2 div.sk-parallel-item:first-child::after {align-self: flex-end;width: 50%;}#sk-container-id-2 div.sk-parallel-item:last-child::after {align-self: flex-start;width: 50%;}#sk-container-id-2 div.sk-parallel-item:only-child::after {width: 0;}#sk-container-id-2 div.sk-dashed-wrapped {border: 1px dashed gray;margin: 0 0.4em 0.5em 0.4em;box-sizing: border-box;padding-bottom: 0.4em;background-color: white;}#sk-container-id-2 div.sk-label label {font-family: monospace;font-weight: bold;display: inline-block;line-height: 1.2em;}#sk-container-id-2 div.sk-label-container {text-align: center;}#sk-container-id-2 div.sk-container {/* jupyter's `normalize.less` sets `[hidden] { display: none; }` but bootstrap.min.css set `[hidden] { display: none !important; }` so we also need the `!important` here to be able to override the default hidden behavior on the sphinx rendered scikit-learn.org. See: https://github.com/scikit-learn/scikit-learn/issues/21755 */display: inline-block !important;position: relative;}#sk-container-id-2 div.sk-text-repr-fallback {display: none;}</style><div id=\"sk-container-id-2\" class=\"sk-top-container\"><div class=\"sk-text-repr-fallback\"><pre>Pipeline(steps=[(&#x27;preprocessor&#x27;,\n                 ColumnTransformer(transformers=[(&#x27;continuous&#x27;,\n                                                  Pipeline(steps=[(&#x27;scaler&#x27;,\n                                                                   RobustScaler())]),\n                                                  [0, 1, 2, 3, 4, 5, 6, 7])])),\n                (&#x27;regressor&#x27;, LinearRegression())])</pre><b>In a Jupyter environment, please rerun this cell to show the HTML representation or trust the notebook. <br />On GitHub, the HTML representation is unable to render, please try loading this page with nbviewer.org.</b></div><div class=\"sk-container\" hidden><div class=\"sk-item sk-dashed-wrapped\"><div class=\"sk-label-container\"><div class=\"sk-label sk-toggleable\"><input class=\"sk-toggleable__control sk-hidden--visually\" id=\"sk-estimator-id-6\" type=\"checkbox\" ><label for=\"sk-estimator-id-6\" class=\"sk-toggleable__label sk-toggleable__label-arrow\">Pipeline</label><div class=\"sk-toggleable__content\"><pre>Pipeline(steps=[(&#x27;preprocessor&#x27;,\n                 ColumnTransformer(transformers=[(&#x27;continuous&#x27;,\n                                                  Pipeline(steps=[(&#x27;scaler&#x27;,\n                                                                   RobustScaler())]),\n                                                  [0, 1, 2, 3, 4, 5, 6, 7])])),\n                (&#x27;regressor&#x27;, LinearRegression())])</pre></div></div></div><div class=\"sk-serial\"><div class=\"sk-item sk-dashed-wrapped\"><div class=\"sk-label-container\"><div class=\"sk-label sk-toggleable\"><input class=\"sk-toggleable__control sk-hidden--visually\" id=\"sk-estimator-id-7\" type=\"checkbox\" ><label for=\"sk-estimator-id-7\" class=\"sk-toggleable__label sk-toggleable__label-arrow\">preprocessor: ColumnTransformer</label><div class=\"sk-toggleable__content\"><pre>ColumnTransformer(transformers=[(&#x27;continuous&#x27;,\n                                 Pipeline(steps=[(&#x27;scaler&#x27;, RobustScaler())]),\n                                 [0, 1, 2, 3, 4, 5, 6, 7])])</pre></div></div></div><div class=\"sk-parallel\"><div class=\"sk-parallel-item\"><div class=\"sk-item\"><div class=\"sk-label-container\"><div class=\"sk-label sk-toggleable\"><input class=\"sk-toggleable__control sk-hidden--visually\" id=\"sk-estimator-id-8\" type=\"checkbox\" ><label for=\"sk-estimator-id-8\" class=\"sk-toggleable__label sk-toggleable__label-arrow\">continuous</label><div class=\"sk-toggleable__content\"><pre>[0, 1, 2, 3, 4, 5, 6, 7]</pre></div></div></div><div class=\"sk-serial\"><div class=\"sk-item\"><div class=\"sk-serial\"><div class=\"sk-item\"><div class=\"sk-estimator sk-toggleable\"><input class=\"sk-toggleable__control sk-hidden--visually\" id=\"sk-estimator-id-9\" type=\"checkbox\" ><label for=\"sk-estimator-id-9\" class=\"sk-toggleable__label sk-toggleable__label-arrow\">RobustScaler</label><div class=\"sk-toggleable__content\"><pre>RobustScaler()</pre></div></div></div></div></div></div></div></div></div></div><div class=\"sk-item\"><div class=\"sk-estimator sk-toggleable\"><input class=\"sk-toggleable__control sk-hidden--visually\" id=\"sk-estimator-id-10\" type=\"checkbox\" ><label for=\"sk-estimator-id-10\" class=\"sk-toggleable__label sk-toggleable__label-arrow\">LinearRegression</label><div class=\"sk-toggleable__content\"><pre>LinearRegression()</pre></div></div></div></div></div></div></div>"
                    },
                    "metadata": {},
                    "execution_count": 7,
                    "output_type": "execute_result"
                }
            ],
            "execution_count": 7
        },
        {
            "cell_type": "code",
            "source": [
                "# Score the model\r\n",
                "from sklearn.metrics import r2_score, mean_squared_error\r\n",
                "y_pred = model.predict(x_train)\r\n",
                "sklearn_r2_score = r2_score(y_train, y_pred)\r\n",
                "sklearn_mse = mean_squared_error(y_train, y_pred)\r\n",
                "print('*** Scikit-learn r2 score: {}'.format(sklearn_r2_score))\r\n",
                "print('*** Scikit-learn MSE: {}'.format(sklearn_mse))"
            ],
            "metadata": {
                "language": "python",
                "azdata_cell_guid": "5e076d68-869c-401a-ac12-a241492010b5",
                "tags": []
            },
            "outputs": [
                {
                    "name": "stdout",
                    "text": "*** Scikit-learn r2 score: 0.606232685199805\n*** Scikit-learn MSE: 0.5243209861846072\n",
                    "output_type": "stream"
                }
            ],
            "execution_count": 8
        },
        {
            "cell_type": "code",
            "source": [
                "from skl2onnx.common.data_types import FloatTensorType, Int64TensorType, DoubleTensorType\r\n",
                "\r\n",
                "def convert_dataframe_schema(df, drop=None, batch_axis=False):\r\n",
                "    inputs = []\r\n",
                "    nrows = None if batch_axis else 1\r\n",
                "    for k, v in zip(df.columns, df.dtypes):\r\n",
                "        if drop is not None and k in drop:\r\n",
                "            continue\r\n",
                "        if v == 'int64':\r\n",
                "            t = Int64TensorType([nrows, 1])\r\n",
                "        elif v == 'float32':\r\n",
                "            t = FloatTensorType([nrows, 1])\r\n",
                "        elif v == 'float64':\r\n",
                "            t = DoubleTensorType([nrows, 1])\r\n",
                "        else:\r\n",
                "            raise Exception(\"Bad type\")\r\n",
                "        inputs.append((k, t))\r\n",
                "    return inputs"
            ],
            "metadata": {
                "language": "python",
                "azdata_cell_guid": "c4045aee-314c-4cc8-b6b2-cb421802d3c6"
            },
            "outputs": [],
            "execution_count": 9
        },
        {
            "cell_type": "code",
            "source": [
                "# Convert the scikit model to onnx format\r\n",
                "onnx_model = skl2onnx.convert_sklearn(model, 'Cali Data', convert_dataframe_schema(x_train), final_types=[('variable1',FloatTensorType([1,1]))])\r\n",
                "# Save the onnx model locally\r\n",
                "onnx_model_path = 'cali1.model.onnx'\r\n",
                "onnxmltools.utils.save_model(onnx_model, onnx_model_path)"
            ],
            "metadata": {
                "language": "python",
                "azdata_cell_guid": "8e7ca3d4-6e48-4c93-bbca-a7f43ad04062"
            },
            "outputs": [],
            "execution_count": 10
        },
        {
            "cell_type": "code",
            "source": [
                "import onnxruntime as rt\r\n",
                "sess = rt.InferenceSession(onnx_model_path)\r\n",
                "\r\n",
                "y_pred = np.full(shape=(len(x_train)), fill_value=np.nan)\r\n",
                "\r\n",
                "for i in range(len(x_train)):\r\n",
                "    inputs = {}\r\n",
                "    for j in range(len(x_train.columns)):\r\n",
                "        inputs[x_train.columns[j]] = np.full(shape=(1,1), fill_value=x_train.iloc[i,j])\r\n",
                "\r\n",
                "    sess_pred = sess.run(None, inputs)\r\n",
                "    y_pred[i] = sess_pred[0][0][0]\r\n",
                "\r\n",
                "onnx_r2_score = r2_score(y_train, y_pred)\r\n",
                "onnx_mse = mean_squared_error(y_train, y_pred)\r\n",
                "\r\n",
                "print()\r\n",
                "print('*** Onnx r2 score: {}'.format(onnx_r2_score))\r\n",
                "print('*** Onnx MSE: {}\\n'.format(onnx_mse))\r\n",
                "print('R2 Scores are equal' if sklearn_r2_score == onnx_r2_score else 'Difference in R2 scores: {}'.format(abs(sklearn_r2_score - onnx_r2_score)))\r\n",
                "print('MSE are equal' if sklearn_mse == onnx_mse else 'Difference in MSE scores: {}'.format(abs(sklearn_mse - onnx_mse)))\r\n",
                "print()"
            ],
            "metadata": {
                "language": "python",
                "azdata_cell_guid": "c638f88f-e4c3-4433-b0c9-b2b385dcefaa"
            },
            "outputs": [
                {
                    "name": "stdout",
                    "text": "\n*** Onnx r2 score: 0.6062326851701203\n*** Onnx MSE: 0.5243209862241339\n\nDifference in R2 scores: 2.9684699143217586e-11\nDifference in MSE scores: 3.9526715234217136e-11\n\n",
                    "output_type": "stream"
                }
            ],
            "execution_count": 11
        },
        {
            "cell_type": "code",
            "source": [
                "##\r\n",
                "# CREATE THE MODEL TABLE IN YOUR DEDICATED SQL POOL\r\n",
                "# -- Sample table schema for storing a model and related data\r\n",
                "# CREATE TABLE [dbo].[Models]\r\n",
                "# (\r\n",
                "#    [Id] [int] IDENTITY(1,1) NOT NULL,\r\n",
                "#    [Model] [varbinary](max) NULL,\r\n",
                "#    [Description] [varchar](200) NULL\r\n",
                "# )\r\n",
                "# WITH\r\n",
                "# (\r\n",
                "#    DISTRIBUTION = ROUND_ROBIN,\r\n",
                "#    HEAP\r\n",
                "# )\r\n",
                "# GO\r\n",
                "##"
            ],
            "metadata": {
                "language": "python",
                "azdata_cell_guid": "5a01bf4f-2273-4cb1-8791-2211aee7c670"
            },
            "outputs": [],
            "execution_count": null
        },
        {
            "cell_type": "code",
            "source": [
                "import pyodbc\r\n",
                "\r\n",
                "server = 'knoxsynapse.sql.azuresynapse.net' # Azure Synapse Dedicated Pool URL\r\n",
                "username = 'knox@knoxsdata.com' # SQL Server username\r\n",
                "password = '' # SQL Server password\r\n",
                "database = 'knoxdw' # Synapse Database Name\r\n",
                "table_name = 'Models' # Table create in prev step\r\n",
                "driver='{ODBC Driver 17 for SQL Server}'\r\n",
                "\r\n",
                "# Connect to db database\r\n",
                "db_connection_string = 'DRIVER='+driver+';SERVER='+server+';PORT=1433;DATABASE='+database+';UID='+username+';PWD='+password+';Authentication=ActiveDirectoryPassword'\r\n",
                "\r\n",
                "conn = pyodbc.connect(db_connection_string)\r\n",
                "cursor = conn.cursor()\r\n",
                "\r\n",
                "# Insert the ONNX model into the models table\r\n",
                "query = f\"insert into {table_name} ([description], [model]) values ('Onnx Model',?)\"\r\n",
                "\r\n",
                "model_bits = onnx_model.SerializeToString()\r\n",
                "\r\n",
                "insert_params  = (pyodbc.Binary(model_bits))\r\n",
                "cursor.execute(query, insert_params)\r\n",
                "conn.commit()"
            ],
            "metadata": {
                "language": "python",
                "azdata_cell_guid": "d0f74021-796a-4070-afab-a11e4315b537"
            },
            "outputs": [],
            "execution_count": 32
        },
        {
            "cell_type": "code",
            "source": [
                "import sqlalchemy\r\n",
                "from sqlalchemy import create_engine\r\n",
                "import urllib\r\n",
                "\r\n",
                "\r\n",
                "server = 'knoxsynapse.sql.azuresynapse.net' # Azure Synapse Dedicated Pool URL\r\n",
                "username = 'knox@knoxsdata.com' # SQL Server username\r\n",
                "password = '' # SQL Server password\r\n",
                "database = 'knoxdw' # Synapse Database Name\r\n",
                "table_name = 'Models' # Table create in prev step\r\n",
                "driver='{ODBC Driver 17 for SQL Server}'\r\n",
                "\r\n",
                "# Connect to db database\r\n",
                "db_connection_string = 'DRIVER='+driver+';SERVER='+server+';PORT=1433;DATABASE='+database+';UID='+username+';PWD='+password+';Authentication=ActiveDirectoryPassword'\r\n",
                "\r\n",
                "conn = pyodbc.connect(db_connection_string)\r\n",
                "conn.autocommit = True\r\n",
                "cursor = conn.cursor()\r\n",
                "\r\n",
                "features_table_name = 'features'\r\n",
                "\r\n",
                "# Create the features table\r\n",
                "query = \\\r\n",
                "    f'create table {features_table_name} ( ' \\\r\n",
                "    f' [MedInc] float, [HouseAge] float, [AveRooms] float, [AveBedrms] float, [Population] float, [AveOccup] float, [Latitude] float, [Longitude] float, [id] int)'\r\n",
                "\r\n",
                "cursor.execute(query)\r\n",
                "conn.commit()\r\n",
                "\r\n",
                "# Target table\r\n",
                "\r\n",
                "target_table_name = 'target'\r\n",
                "\r\n",
                "\r\n",
                "\r\n",
                "# Create the target table\r\n",
                "query = \\\r\n",
                "    f'create table {target_table_name} ( ' \\\r\n",
                "    f'    [MEDV] float, ' \\\r\n",
                "    f'    [id] int)'\r\n",
                "cursor.execute(query)\r\n",
                "conn.commit()\r\n",
                "\r\n",
                "x_train['id'] = range(1, len(x_train)+1)\r\n",
                "y_train['id'] = range(1, len(y_train)+1)\r\n",
                "\r\n",
                "print(x_train.head())\r\n",
                "print(y_train.head())"
            ],
            "metadata": {
                "language": "python",
                "azdata_cell_guid": "ebd22790-0524-45cc-b82e-f3addaab71ca"
            },
            "outputs": [
                {
                    "name": "stdout",
                    "text": "   MedInc  HouseAge  AveRooms  AveBedrms  Population  AveOccup  Latitude  \\\n0  8.3252      41.0  6.984127   1.023810       322.0  2.555556     37.88   \n1  8.3014      21.0  6.238137   0.971880      2401.0  2.109842     37.86   \n2  7.2574      52.0  8.288136   1.073446       496.0  2.802260     37.85   \n3  5.6431      52.0  5.817352   1.073059       558.0  2.547945     37.85   \n4  3.8462      52.0  6.281853   1.081081       565.0  2.181467     37.85   \n\n   Longitude  id  \n0    -122.23   1  \n1    -122.22   2  \n2    -122.24   3  \n3    -122.25   4  \n4    -122.25   5  \n    MEDV  id\n0  4.526   1\n1  3.585   2\n2  3.521   3\n3  3.413   4\n4  3.422   5\n",
                    "output_type": "stream"
                }
            ],
            "execution_count": 49
        },
        {
            "cell_type": "code",
            "source": [
                "x_train.to_csv('features.csv')\r\n",
                "y_train.to_csv('target.csv')"
            ],
            "metadata": {
                "language": "python",
                "azdata_cell_guid": "e05bc2a9-f983-4d9f-b280-76fb55d57bed",
                "tags": []
            },
            "outputs": [],
            "execution_count": 55
        },
        {
            "cell_type": "code",
            "source": [
                "COPY INTO dbo.target\r\n",
                "FROM 'https://knoxlakegen2.blob.core.windows.net/etlload/target.csv'\r\n",
                "WITH (FILE_TYPE='csv',FIRSTROW=2)\r\n",
                "\r\n",
                "COPY INTO dbo.features\r\n",
                "FROM 'https://knoxlakegen2.blob.core.windows.net/etlload/features.csv'\r\n",
                "WITH (FILE_TYPE='csv',FIRSTROW=2)"
            ],
            "metadata": {
                "language": "python",
                "azdata_cell_guid": "11d02314-d87f-41b3-822d-2a497607e08f"
            },
            "outputs": [],
            "execution_count": null
        },
        {
            "cell_type": "code",
            "source": [
                "### QUERY YOUR MODELS TABLE TO GET YOUR MODEL ID\r\n",
                "DECLARE @model VARBINARY(max) = (SELECT Model FROM models WHERE id = 59);\r\n",
                "\r\n",
                "SELECT d.*, p.variable1 AS SCORE\r\n",
                "FROM PREDICT(MODEL = @model,\r\n",
                "    DATA = dbo.features AS d, RUNTIME = ONNX) WITH (variable1 FLOAT) AS p;"
            ],
            "metadata": {
                "language": "python",
                "azdata_cell_guid": "0543dfee-53d2-459b-8f00-a8b6de440137"
            },
            "outputs": [],
            "execution_count": null
        }
    ]
}